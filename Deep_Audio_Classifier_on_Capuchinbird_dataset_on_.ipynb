{
  "cells": [
    {
      "cell_type": "markdown",
      "metadata": {
        "id": "view-in-github",
        "colab_type": "text"
      },
      "source": [
        "<a href=\"https://colab.research.google.com/github/kaispace30098/Audio-Recognition/blob/main/Deep_Audio_Classifier_on_Capuchinbird_dataset_on_.ipynb\" target=\"_parent\"><img src=\"https://colab.research.google.com/assets/colab-badge.svg\" alt=\"Open In Colab\"/></a>"
      ]
    },
    {
      "cell_type": "code",
      "execution_count": 1,
      "metadata": {
        "colab": {
          "base_uri": "https://localhost:8080/"
        },
        "id": "TSlpY2i0G2pu",
        "outputId": "8f981d93-7231-4ade-9c58-03ddb3867599"
      },
      "outputs": [
        {
          "output_type": "stream",
          "name": "stdout",
          "text": [
            "Looking in indexes: https://pypi.org/simple, https://us-python.pkg.dev/colab-wheels/public/simple/\n",
            "Requirement already satisfied: kaggle in /usr/local/lib/python3.7/dist-packages (1.5.12)\n",
            "Requirement already satisfied: certifi in /usr/local/lib/python3.7/dist-packages (from kaggle) (2022.6.15)\n",
            "Requirement already satisfied: requests in /usr/local/lib/python3.7/dist-packages (from kaggle) (2.23.0)\n",
            "Requirement already satisfied: python-dateutil in /usr/local/lib/python3.7/dist-packages (from kaggle) (2.8.2)\n",
            "Requirement already satisfied: six>=1.10 in /usr/local/lib/python3.7/dist-packages (from kaggle) (1.15.0)\n",
            "Requirement already satisfied: urllib3 in /usr/local/lib/python3.7/dist-packages (from kaggle) (1.24.3)\n",
            "Requirement already satisfied: tqdm in /usr/local/lib/python3.7/dist-packages (from kaggle) (4.64.0)\n",
            "Requirement already satisfied: python-slugify in /usr/local/lib/python3.7/dist-packages (from kaggle) (6.1.2)\n",
            "Requirement already satisfied: text-unidecode>=1.3 in /usr/local/lib/python3.7/dist-packages (from python-slugify->kaggle) (1.3)\n",
            "Requirement already satisfied: chardet<4,>=3.0.2 in /usr/local/lib/python3.7/dist-packages (from requests->kaggle) (3.0.4)\n",
            "Requirement already satisfied: idna<3,>=2.5 in /usr/local/lib/python3.7/dist-packages (from requests->kaggle) (2.10)\n"
          ]
        }
      ],
      "source": [
        "! pip install kaggle\n",
        "! mkdir ~/.kaggle\n",
        "! cp kaggle.json ~/.kaggle/\n",
        "!chmod 600 ~/.kaggle/kaggle.json\n",
        "!kaggle d download kenjee/z-by-hp-unlocked-challenge-3-signal-processing\n",
        "! unzip /content/z-by-hp-unlocked-challenge-3-signal-processing.zip"
      ]
    },
    {
      "cell_type": "code",
      "source": [
        "import os\n",
        "import matplotlib.pyplot as plt\n",
        "import tensorflow as tf"
      ],
      "metadata": {
        "colab": {
          "base_uri": "https://localhost:8080/"
        },
        "id": "wd8xmjhNQkwE",
        "outputId": "5d235fc4-9f03-4265-886b-ce6c12c1b449"
      },
      "execution_count": 7,
      "outputs": [
        {
          "output_type": "stream",
          "name": "stdout",
          "text": [
            "Looking in indexes: https://pypi.org/simple, https://us-python.pkg.dev/colab-wheels/public/simple/\n",
            "Requirement already satisfied: tensorflow_io in /usr/local/lib/python3.7/dist-packages (0.26.0)\n",
            "Requirement already satisfied: tensorflow-io-gcs-filesystem==0.26.0 in /usr/local/lib/python3.7/dist-packages (from tensorflow_io) (0.26.0)\n"
          ]
        }
      ]
    },
    {
      "cell_type": "code",
      "source": [
        "def load_wav(filename):\n",
        "  file_contents=tf.io.read_file(filename)\n",
        "  wav,sample_rate=tf.audio.decode_wav(file_contents,desired_channels=1)\n",
        "\n",
        "  wav=tf.squeeze(wav,axis=-1)\n",
        "  sample_rate=tf.cast(sample_rate,dtype=tf.int64)\n",
        "\n",
        "  #wav=tfio.audio.resample(wav,rate_in=sample_rate,rate_out=16000)\n",
        "  return wav\n"
      ],
      "metadata": {
        "id": "o5JgwJuiRwiM"
      },
      "execution_count": 8,
      "outputs": []
    },
    {
      "cell_type": "code",
      "source": [
        "#Create Tensorflow Datasets\n",
        "posdir='/content/Parsed_Capuchinbird_Clips'\n",
        "negdir='/content/Parsed_Not_Capuchinbird_Clips'"
      ],
      "metadata": {
        "id": "aAvf0QKNcnHU"
      },
      "execution_count": 14,
      "outputs": []
    },
    {
      "cell_type": "code",
      "source": [
        "posdirs=tf.data.Dataset.list_files(posdir +'/*.wav')\n",
        "negdirs=tf.data.Dataset.list_files(negdir +'/*wav')"
      ],
      "metadata": {
        "id": "cHShmVM9d0RV"
      },
      "execution_count": 15,
      "outputs": []
    },
    {
      "cell_type": "code",
      "source": [
        "posdirs.as_numpy_iterator().next()"
      ],
      "metadata": {
        "colab": {
          "base_uri": "https://localhost:8080/"
        },
        "id": "Vb4mMg6qeMq7",
        "outputId": "5f37949c-5fce-4d18-a57a-37097037983b"
      },
      "execution_count": 16,
      "outputs": [
        {
          "output_type": "execute_result",
          "data": {
            "text/plain": [
              "b'/content/Parsed_Capuchinbird_Clips/XC114131-0.wav'"
            ]
          },
          "metadata": {},
          "execution_count": 16
        }
      ]
    },
    {
      "cell_type": "code",
      "source": [
        "positives=tf.data.Dataset.zip((posdirs,tf.data.Dataset.from_tensor_slices(tf.ones(len(posdirs)))))\n",
        "negatives=tf.data.Dataset.zip((negdirs,tf.data.Dataset.from_tensor_slices(tf.zeros(len(negdirs)))))\n",
        "data=positives.concatenate(negatives)\n"
      ],
      "metadata": {
        "id": "iXKR0ARMejDF"
      },
      "execution_count": 17,
      "outputs": []
    },
    {
      "cell_type": "code",
      "source": [
        "data.shuffle(1000).as_numpy_iterator().next()"
      ],
      "metadata": {
        "colab": {
          "base_uri": "https://localhost:8080/"
        },
        "id": "mkNFuB3WfJnq",
        "outputId": "4e4ce122-bf85-47ab-81a5-0af436005bf5"
      },
      "execution_count": 18,
      "outputs": [
        {
          "output_type": "execute_result",
          "data": {
            "text/plain": [
              "(b'/content/Parsed_Capuchinbird_Clips/XC600460-0.wav', 1.0)"
            ]
          },
          "metadata": {},
          "execution_count": 18
        }
      ]
    },
    {
      "cell_type": "code",
      "source": [
        "lengths=[]\n",
        "for file in os.listdir(os.path.join('/content/Parsed_Capuchinbird_Clips')):\n",
        "  tensor_wave=load_wav(os.path.join('/content/Parsed_Capuchinbird_Clips',file))\n",
        "  lengths.append(len(tensor_wave))"
      ],
      "metadata": {
        "id": "LNLg_DIVfdjV"
      },
      "execution_count": 19,
      "outputs": []
    },
    {
      "cell_type": "code",
      "source": [
        "print(tf.math.reduce_mean(lengths))\n",
        "print(tf.math.reduce_min(lengths))\n",
        "print(tf.math.reduce_max(lengths))\n"
      ],
      "metadata": {
        "colab": {
          "base_uri": "https://localhost:8080/"
        },
        "id": "4fQiW1m1kml-",
        "outputId": "dcf91fb8-28d3-4aac-ef4f-ed223ce4a2a1"
      },
      "execution_count": 21,
      "outputs": [
        {
          "output_type": "execute_result",
          "data": {
            "text/plain": [
              "3.2020279510356557"
            ]
          },
          "metadata": {},
          "execution_count": 21
        }
      ]
    },
    {
      "cell_type": "code",
      "source": [
        "#We need to calculate how many second a bird sings each time,using 44100Hz devide the average length of wave.\n",
        "#we get 144000\n",
        "def preprocess(file_path,label):\n",
        "  wav=load_wav(file_path)\n",
        "  wav=wav[:144000]\n",
        "  zero_padding=tf.zeros([144000]-tf.shape(wav),dtype=tf.float32)\n",
        "  wav=tf.concat([zero_padding,wav],0)\n",
        "\n",
        "  #transform wave to spectrogram to transform the problem to image recognition\n",
        "  spectrogram=tf.signal.stft(wav,frame_length=320,frame_step=32)\n",
        "  spectrogram = tf.abs(spectrogram)\n",
        "  spectrogram = tf.expand_dims(spectrogram, axis=2)\n",
        "  return spectrogram, label"
      ],
      "metadata": {
        "id": "g_10F_9BlaEy"
      },
      "execution_count": 24,
      "outputs": []
    },
    {
      "cell_type": "code",
      "source": [
        "#Visualize random positive sample or the sound of a bird\n",
        "filepath,label=positives.shuffle(1000).as_numpy_iterator().next()\n",
        "spectrogram, label=preprocess(filepath,label)\n",
        "plt.figure(figsize=(30,20))\n",
        "plt.imshow(tf.transpose(spectrogram)[0])\n",
        "plt.show()"
      ],
      "metadata": {
        "id": "GFiLFqiNnWdQ"
      },
      "execution_count": 25,
      "outputs": []
    },
    {
      "cell_type": "code",
      "source": [
        "#CREATE A TENSORFLOW DATA PIPELINE"
      ],
      "metadata": {
        "id": "IZFHpUcdo751"
      },
      "execution_count": 27,
      "outputs": []
    },
    {
      "cell_type": "code",
      "source": [
        "data=data.map(preprocess)\n",
        "data=data.cache()\n",
        "data=data.shuffle(buffer_size=1000)\n",
        "data=data.batch(16)\n",
        "data=data.prefetch(8)\n"
      ],
      "metadata": {
        "id": "ZM94f-I4ri0t"
      },
      "execution_count": 28,
      "outputs": []
    },
    {
      "cell_type": "code",
      "source": [
        "train=data.take(36)\n",
        "test=data.skip(36).take(15)"
      ],
      "metadata": {
        "id": "rsMnvzOasREV"
      },
      "execution_count": 29,
      "outputs": []
    },
    {
      "cell_type": "code",
      "source": [
        "#test one batch\n",
        "samples,labels=train.as_numpy_iterator().next()"
      ],
      "metadata": {
        "id": "sSxsm7V7sbST"
      },
      "execution_count": 30,
      "outputs": []
    },
    {
      "cell_type": "code",
      "source": [
        "samples.shape"
      ],
      "metadata": {
        "colab": {
          "base_uri": "https://localhost:8080/"
        },
        "id": "h9Zj3zl4sl5T",
        "outputId": "331b5332-7f68-460c-f26f-a58612497c83"
      },
      "execution_count": 31,
      "outputs": [
        {
          "output_type": "execute_result",
          "data": {
            "text/plain": [
              "(16, 4491, 257, 1)"
            ]
          },
          "metadata": {},
          "execution_count": 31
        }
      ]
    },
    {
      "cell_type": "code",
      "source": [
        "from tensorflow.keras.models import Model\n",
        "from tensorflow.keras.layers import Conv2D, Dense,Flatten,Input"
      ],
      "metadata": {
        "id": "SsPNirGcsrYt"
      },
      "execution_count": 32,
      "outputs": []
    },
    {
      "cell_type": "code",
      "source": [
        "i=Input(shape=(4491,257,1))\n",
        "x=Conv2D(4,(3,3),activation='relu')(i)\n",
        "x=Conv2D(16,(3,3),activation='relu')(x)\n",
        "x=Flatten()(x)\n",
        "x=Dense(4,activation='relu')(x)\n",
        "x=Dense(1,activation='sigmoid')(x)\n",
        "\n",
        "model=Model(inputs=i,outputs=x)\n",
        "model.summary()\n",
        "\n"
      ],
      "metadata": {
        "colab": {
          "base_uri": "https://localhost:8080/"
        },
        "id": "5OJpTMWku8ug",
        "outputId": "d7842170-d3c5-415f-9067-457f31d2ee09"
      },
      "execution_count": 38,
      "outputs": [
        {
          "output_type": "stream",
          "name": "stdout",
          "text": [
            "Model: \"model_1\"\n",
            "_________________________________________________________________\n",
            " Layer (type)                Output Shape              Param #   \n",
            "=================================================================\n",
            " input_2 (InputLayer)        [(None, 4491, 257, 1)]    0         \n",
            "                                                                 \n",
            " conv2d_1 (Conv2D)           (None, 4489, 255, 4)      40        \n",
            "                                                                 \n",
            " conv2d_2 (Conv2D)           (None, 4487, 253, 16)     592       \n",
            "                                                                 \n",
            " flatten_1 (Flatten)         (None, 18163376)          0         \n",
            "                                                                 \n",
            " dense_2 (Dense)             (None, 4)                 72653508  \n",
            "                                                                 \n",
            " dense_3 (Dense)             (None, 1)                 5         \n",
            "                                                                 \n",
            "=================================================================\n",
            "Total params: 72,654,145\n",
            "Trainable params: 72,654,145\n",
            "Non-trainable params: 0\n",
            "_________________________________________________________________\n"
          ]
        }
      ]
    },
    {
      "cell_type": "code",
      "source": [
        "model.compile(optimizer='Adam',loss='BinaryCrossentropy',metrics=[tf.keras.metrics.Recall(),tf.keras.metrics.Precision()])"
      ],
      "metadata": {
        "id": "DrTLeJn8M5X4"
      },
      "execution_count": 39,
      "outputs": []
    },
    {
      "cell_type": "code",
      "source": [
        "history=model.fit(train,epochs=20,validation_data=test)"
      ],
      "metadata": {
        "colab": {
          "base_uri": "https://localhost:8080/"
        },
        "id": "yIB5edjmNkK3",
        "outputId": "15dc02ac-1536-47c9-f661-ef399275af8b"
      },
      "execution_count": 40,
      "outputs": [
        {
          "output_type": "stream",
          "name": "stdout",
          "text": [
            "Epoch 1/20\n",
            "36/36 [==============================] - 16s 357ms/step - loss: 1.9404 - recall_1: 0.8425 - precision_1: 0.8146 - val_loss: 0.1819 - val_recall_1: 0.8000 - val_precision_1: 1.0000\n",
            "Epoch 2/20\n",
            "36/36 [==============================] - 12s 334ms/step - loss: 0.0992 - recall_1: 0.8780 - precision_1: 0.9931 - val_loss: 0.1030 - val_recall_1: 0.9672 - val_precision_1: 0.9516\n",
            "Epoch 3/20\n",
            "36/36 [==============================] - 12s 338ms/step - loss: 0.0719 - recall_1: 0.9145 - precision_1: 0.9720 - val_loss: 0.0207 - val_recall_1: 0.9697 - val_precision_1: 1.0000\n",
            "Epoch 4/20\n",
            "36/36 [==============================] - 12s 338ms/step - loss: 0.0193 - recall_1: 0.9765 - precision_1: 0.9940 - val_loss: 0.0257 - val_recall_1: 0.9524 - val_precision_1: 1.0000\n",
            "Epoch 5/20\n",
            "36/36 [==============================] - 12s 340ms/step - loss: 0.0194 - recall_1: 0.9728 - precision_1: 1.0000 - val_loss: 0.0299 - val_recall_1: 0.9655 - val_precision_1: 1.0000\n",
            "Epoch 6/20\n",
            "36/36 [==============================] - 12s 344ms/step - loss: 0.0134 - recall_1: 0.9800 - precision_1: 1.0000 - val_loss: 0.0020 - val_recall_1: 1.0000 - val_precision_1: 1.0000\n",
            "Epoch 7/20\n",
            "36/36 [==============================] - 12s 342ms/step - loss: 0.0217 - recall_1: 0.9724 - precision_1: 1.0000 - val_loss: 0.0037 - val_recall_1: 1.0000 - val_precision_1: 1.0000\n",
            "Epoch 8/20\n",
            "36/36 [==============================] - 12s 344ms/step - loss: 0.0087 - recall_1: 0.9935 - precision_1: 1.0000 - val_loss: 0.0129 - val_recall_1: 1.0000 - val_precision_1: 0.9859\n",
            "Epoch 9/20\n",
            "36/36 [==============================] - 12s 344ms/step - loss: 0.0070 - recall_1: 0.9871 - precision_1: 1.0000 - val_loss: 0.0069 - val_recall_1: 1.0000 - val_precision_1: 1.0000\n",
            "Epoch 10/20\n",
            "36/36 [==============================] - 12s 339ms/step - loss: 0.0069 - recall_1: 1.0000 - precision_1: 1.0000 - val_loss: 0.0048 - val_recall_1: 1.0000 - val_precision_1: 1.0000\n",
            "Epoch 11/20\n",
            "36/36 [==============================] - 12s 343ms/step - loss: 0.0082 - recall_1: 0.9939 - precision_1: 0.9939 - val_loss: 0.0026 - val_recall_1: 1.0000 - val_precision_1: 1.0000\n",
            "Epoch 12/20\n",
            "36/36 [==============================] - 12s 343ms/step - loss: 0.0033 - recall_1: 0.9932 - precision_1: 1.0000 - val_loss: 0.0062 - val_recall_1: 0.9844 - val_precision_1: 1.0000\n",
            "Epoch 13/20\n",
            "36/36 [==============================] - 12s 347ms/step - loss: 7.0166e-04 - recall_1: 1.0000 - precision_1: 1.0000 - val_loss: 0.0084 - val_recall_1: 0.9722 - val_precision_1: 1.0000\n",
            "Epoch 14/20\n",
            "36/36 [==============================] - 12s 346ms/step - loss: 0.0050 - recall_1: 0.9936 - precision_1: 1.0000 - val_loss: 0.0036 - val_recall_1: 1.0000 - val_precision_1: 1.0000\n",
            "Epoch 15/20\n",
            "36/36 [==============================] - 12s 341ms/step - loss: 0.0040 - recall_1: 0.9933 - precision_1: 1.0000 - val_loss: 0.0045 - val_recall_1: 1.0000 - val_precision_1: 1.0000\n",
            "Epoch 16/20\n",
            "36/36 [==============================] - 12s 344ms/step - loss: 0.0056 - recall_1: 0.9933 - precision_1: 1.0000 - val_loss: 0.0026 - val_recall_1: 1.0000 - val_precision_1: 1.0000\n",
            "Epoch 17/20\n",
            "36/36 [==============================] - 12s 343ms/step - loss: 0.0050 - recall_1: 0.9934 - precision_1: 1.0000 - val_loss: 0.0061 - val_recall_1: 1.0000 - val_precision_1: 1.0000\n",
            "Epoch 18/20\n",
            "36/36 [==============================] - 12s 346ms/step - loss: 0.0018 - recall_1: 0.9932 - precision_1: 1.0000 - val_loss: 8.0346e-04 - val_recall_1: 1.0000 - val_precision_1: 1.0000\n",
            "Epoch 19/20\n",
            "36/36 [==============================] - 12s 347ms/step - loss: 0.0059 - recall_1: 0.9932 - precision_1: 0.9932 - val_loss: 0.0127 - val_recall_1: 0.9839 - val_precision_1: 1.0000\n",
            "Epoch 20/20\n",
            "36/36 [==============================] - 12s 346ms/step - loss: 0.0153 - recall_1: 0.9935 - precision_1: 0.9935 - val_loss: 0.0035 - val_recall_1: 1.0000 - val_precision_1: 1.0000\n"
          ]
        }
      ]
    },
    {
      "cell_type": "code",
      "source": [
        "plt.plot(history.history['loss'])"
      ],
      "metadata": {
        "colab": {
          "base_uri": "https://localhost:8080/",
          "height": 284
        },
        "id": "r2j6-_7eTg9T",
        "outputId": "bdbf695e-6d8b-4abf-a74a-cf46b2685a37"
      },
      "execution_count": 41,
      "outputs": [
        {
          "output_type": "execute_result",
          "data": {
            "text/plain": [
              "[<matplotlib.lines.Line2D at 0x7f36a6b33990>]"
            ]
          },
          "metadata": {},
          "execution_count": 41
        },
        {
          "output_type": "display_data",
          "data": {
            "text/plain": [
              "<Figure size 432x288 with 1 Axes>"
            ],
            "image/png": "[encoded data removed]"
          },
          "metadata": {
            "needs_background": "light"
          }
        }
      ]
    },
    {
      "cell_type": "code",
      "source": [
        "plt.title('Precision')\n",
        "plt.plot(history.history['precision_1'],color='g')\n",
        "plt.plot(history.history['val_precision_1'],color='b')\n",
        "plt.show()\n"
      ],
      "metadata": {
        "colab": {
          "base_uri": "https://localhost:8080/",
          "height": 281
        },
        "id": "ztnWwYjkXkMe",
        "outputId": "faecbb47-15c3-4dc8-e237-74155950c721"
      },
      "execution_count": 50,
      "outputs": [
        {
          "output_type": "display_data",
          "data": {
            "text/plain": [
              "<Figure size 432x288 with 1 Axes>"
            ],
            "image/png": "[encoded data removed]"
          },
          "metadata": {
            "needs_background": "light"
          }
        }
      ]
    },
    {
      "cell_type": "code",
      "source": [
        "plt.title('Recall')\n",
        "plt.plot(history.history['recall_1'],color='r')\n",
        "plt.plot(history.history['val_recall_1'],color='y')\n",
        "plt.show()"
      ],
      "metadata": {
        "colab": {
          "base_uri": "https://localhost:8080/",
          "height": 281
        },
        "id": "h2w09SjoX0Tk",
        "outputId": "3035b8e9-537c-49c7-ea8e-98b7e51fe9f5"
      },
      "execution_count": 52,
      "outputs": [
        {
          "output_type": "display_data",
          "data": {
            "text/plain": [
              "<Figure size 432x288 with 1 Axes>"
            ],
            "image/png": "[encoded data removed]"
          },
          "metadata": {
            "needs_background": "light"
          }
        }
      ]
    },
    {
      "cell_type": "code",
      "source": [
        "xtest,ytest=test.as_numpy_iterator().next()"
      ],
      "metadata": {
        "id": "H6L6MOojYnGH"
      },
      "execution_count": 53,
      "outputs": []
    },
    {
      "cell_type": "code",
      "source": [
        "print(xtest.shape,ytest.shape)"
      ],
      "metadata": {
        "colab": {
          "base_uri": "https://localhost:8080/"
        },
        "id": "U8d_5AOFZRI_",
        "outputId": "05aef69d-de9d-45ed-e286-84fc5852b04c"
      },
      "execution_count": 56,
      "outputs": [
        {
          "output_type": "stream",
          "name": "stdout",
          "text": [
            "(16, 4491, 257, 1) (16,)\n"
          ]
        }
      ]
    },
    {
      "cell_type": "code",
      "source": [
        "ypred=[1 if yhat >=0.5 else 0 for yhat in model.predict(xtest)]\n",
        "ytest=ytest.astype(int)\n",
        "from sklearn. metrics import accuracy_score\n",
        "print(ytest)\n",
        "print(ypred)\n",
        "print('acc:',accuracy_score(ypred,ytest))\n"
      ],
      "metadata": {
        "colab": {
          "base_uri": "https://localhost:8080/"
        },
        "id": "ih0qRNdiZSrY",
        "outputId": "94c58a01-957f-415a-b996-1f0993e2508d"
      },
      "execution_count": 70,
      "outputs": [
        {
          "output_type": "stream",
          "name": "stdout",
          "text": [
            "[1 1 0 1 0 0 1 0 0 1 1 0 0 0 0 1]\n",
            "[1, 1, 0, 1, 0, 0, 1, 0, 0, 1, 1, 0, 0, 0, 0, 1]\n",
            "acc: 1.0\n"
          ]
        }
      ]
    }
  ],
  "metadata": {
    "accelerator": "GPU",
    "colab": {
      "name": "Deep Audio Classifier on Capuchinbird dataset on .ipynb",
      "provenance": [],
      "collapsed_sections": [],
      "authorship_tag": "ABX9TyOdJGjqzZA1bBpbUa19uDDk",
      "include_colab_link": true
    },
    "gpuClass": "standard",
    "kernelspec": {
      "display_name": "Python 3",
      "name": "python3"
    },
    "language_info": {
      "name": "python"
    }
  },
  "nbformat": 4,
  "nbformat_minor": 0
}